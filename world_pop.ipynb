{
 "cells": [
  {
   "attachments": {},
   "cell_type": "markdown",
   "metadata": {},
   "source": [
    "### Copy kaggle.json file to /home/codespace/.kaggle/"
   ]
  },
  {
   "cell_type": "code",
   "execution_count": 11,
   "metadata": {},
   "outputs": [],
   "source": [
    "! cp kaggle.json ~/.kaggle/"
   ]
  },
  {
   "attachments": {},
   "cell_type": "markdown",
   "metadata": {},
   "source": [
    "#### import kaggle library and search for datasets"
   ]
  },
  {
   "cell_type": "code",
   "execution_count": 1,
   "metadata": {},
   "outputs": [
    {
     "name": "stdout",
     "output_type": "stream",
     "text": [
      "Warning: Your Kaggle API key is readable by other users on this system! To fix this, you can run 'chmod 600 /home/codespace/.kaggle/kaggle.json'\n",
      "Warning: Your Kaggle API key is readable by other users on this system! To fix this, you can run 'chmod 600 /home/codespace/.kaggle/kaggle.json'\n",
      "ref                                                            title                                                size  lastUpdated          downloadCount  voteCount  usabilityRating  \n",
      "-------------------------------------------------------------  --------------------------------------------------  -----  -------------------  -------------  ---------  ---------------  \n",
      "anandhuh/countries-in-the-world-by-population-2022             Countries in the World by Population 2022             7KB  2022-03-20 14:04:10           2537         91  1.0              \n",
      "muhammedtausif/world-population-by-countries                   World Population                                      9KB  2022-06-21 22:40:01           1760         72  1.0              \n",
      "iamsouravbanerjee/world-population-dataset                     World Population Dataset                             16KB  2022-10-20 17:51:07          21002        465  1.0              \n",
      "whenamancodes/world-population-live-dataset                    World Population Live Dataset 2022                   10KB  2022-09-10 11:29:21           3338         66  1.0              \n",
      "muhammedtausif/world-rural-population                          World Rural Population                               71KB  2022-09-04 07:40:51            466         51  0.9117647        \n",
      "muhammedtausif/military-size-by-country-2022                   Militaries & Weapons                                  4KB  2022-09-02 07:04:58            385         49  0.9705882        \n",
      "anandhuh/population-data-india                                 Population of India (2050-1955)                       3KB  2023-01-16 18:30:25            988         66  1.0              \n",
      "iamsouravbanerjee/fifa-football-world-cup-dataset              FIFA - Football World Cup Dataset                    13KB  2022-12-23 19:22:54           3885         95  1.0              \n",
      "tusharaggarwal27/2022-dec-world-populations                    World Population By Countries ((1970)) to ((2050))   19KB  2022-12-08 02:23:40           1142         58  1.0              \n",
      "josephassaker/covid19-global-dataset                           Covid-19 Global Dataset                               2MB  2022-05-15 16:23:17          10338        119  1.0              \n",
      "anandhuh/population-data-china                                 Population of China (2020 and historical)             3KB  2022-03-30 16:17:29           1444         51  1.0              \n",
      "milanvaddoriya/world-population-data                           World Population Data                                15KB  2022-12-19 15:02:09            958         42  1.0              \n",
      "anandhuh/population-of-pakistan                                Population of Pakistan (2050-1955)                    3KB  2022-06-08 10:45:52            217         47  0.9705882        \n",
      "pranav941/-world-food-wealth-bank                              🍕Food Bank🏦of the World🌍                             12MB  2022-11-09 05:52:45            399         76  1.0              \n",
      "anandhuh/population-data-usa                                   Population of USA (2050-1955)                         3KB  2022-04-26 11:50:08            640         35  0.8235294        \n",
      "surajjha101/fortune-top-1000-companies-by-revenue-2022         Fortune Top 1000 Companies by Revenue 2022           37KB  2022-08-28 06:43:27           4084         94  1.0              \n",
      "anandhuh/population-indonasia                                  Population of Indonesia (2050-1955)                   3KB  2022-05-01 11:33:14            544         60  0.9117647        \n",
      "moazzimalibhatti/co2-emission-by-countries-year-wise-17502022  CO2 Emission by countries Year wise (1750-2022)     280KB  2022-09-14 07:43:00           2474         67  1.0              \n",
      "devrimtuner/most-crowded-countries-in-the-world-top-100        Most Crowded Countries in the World (TOP 100)         4KB  2022-12-26 20:48:03            610         28  1.0              \n",
      "rajkumarpandey02/fifa-world-cup-attendance-19302022            FIFA World Cup Attendance 1930-2022                   5KB  2022-12-19 10:04:26           1312         34  1.0              \n"
     ]
    }
   ],
   "source": [
    "import kaggle\n",
    "!kaggle datasets list -s 'world by population 2022'"
   ]
  },
  {
   "attachments": {},
   "cell_type": "markdown",
   "metadata": {},
   "source": [
    "#### Download the Worl by population 2022"
   ]
  },
  {
   "cell_type": "code",
   "execution_count": 2,
   "metadata": {},
   "outputs": [
    {
     "name": "stdout",
     "output_type": "stream",
     "text": [
      "Warning: Your Kaggle API key is readable by other users on this system! To fix this, you can run 'chmod 600 /home/codespace/.kaggle/kaggle.json'\n",
      "Downloading countries-in-the-world-by-population-2022.zip to /workspaces/bts_jewel\n",
      "  0%|                                               | 0.00/6.52k [00:00<?, ?B/s]\n",
      "100%|██████████████████████████████████████| 6.52k/6.52k [00:00<00:00, 7.24MB/s]\n"
     ]
    }
   ],
   "source": [
    "!kaggle datasets download -d \"anandhuh/countries-in-the-world-by-population-2022\"\n",
    "!mv /workspaces/bts_jewel/\"countries-in-the-world-by-population-2022.zip\" /workspaces/bts_jewel/downloads/"
   ]
  },
  {
   "cell_type": "code",
   "execution_count": 1,
   "metadata": {},
   "outputs": [
    {
     "name": "stdout",
     "output_type": "stream",
     "text": [
      "Reading package lists... Done\n",
      "Building dependency tree       \n",
      "Reading state information... Done\n",
      "unzip is already the newest version (6.0-25ubuntu1.1).\n",
      "The following packages were automatically installed and are no longer required:\n",
      "  aspnetcore-runtime-6.0 aspnetcore-targeting-pack-6.0 dotnet-apphost-pack-6.0\n",
      "  dotnet-host dotnet-hostfxr-6.0 dotnet-runtime-6.0 dotnet-runtime-deps-6.0\n",
      "  dotnet-targeting-pack-6.0 netstandard-targeting-pack-2.1\n",
      "Use 'sudo apt autoremove' to remove them.\n",
      "0 upgraded, 0 newly installed, 0 to remove and 0 not upgraded.\n"
     ]
    }
   ],
   "source": [
    "!sudo apt-get install unzip"
   ]
  },
  {
   "cell_type": "code",
   "execution_count": 11,
   "metadata": {},
   "outputs": [
    {
     "name": "stdout",
     "output_type": "stream",
     "text": [
      "Archive:  /workspaces/bts_jewel/downloads/countries-in-the-world-by-population-2022.zip\n",
      "  inflating: data/world_population.csv  \n"
     ]
    }
   ],
   "source": [
    "!unzip /workspaces/bts_jewel/downloads/\"countries-in-the-world-by-population-2022.zip\" -d data/"
   ]
  },
  {
   "cell_type": "code",
   "execution_count": 12,
   "metadata": {},
   "outputs": [
    {
     "data": {
      "text/html": [
       "<div>\n",
       "<style scoped>\n",
       "    .dataframe tbody tr th:only-of-type {\n",
       "        vertical-align: middle;\n",
       "    }\n",
       "\n",
       "    .dataframe tbody tr th {\n",
       "        vertical-align: top;\n",
       "    }\n",
       "\n",
       "    .dataframe thead th {\n",
       "        text-align: right;\n",
       "    }\n",
       "</style>\n",
       "<table border=\"1\" class=\"dataframe\">\n",
       "  <thead>\n",
       "    <tr style=\"text-align: right;\">\n",
       "      <th></th>\n",
       "      <th>Country</th>\n",
       "      <th>Population (2020)</th>\n",
       "      <th>Yearly Change</th>\n",
       "      <th>Net Change</th>\n",
       "      <th>Density (P/Km²)</th>\n",
       "      <th>Land Area (Km²)</th>\n",
       "      <th>Migrants (net)</th>\n",
       "      <th>Fert. Rate</th>\n",
       "      <th>Med. Age</th>\n",
       "      <th>Urban Pop %</th>\n",
       "      <th>World Share</th>\n",
       "    </tr>\n",
       "  </thead>\n",
       "  <tbody>\n",
       "    <tr>\n",
       "      <th>0</th>\n",
       "      <td>Afghanistan</td>\n",
       "      <td>38928346</td>\n",
       "      <td>2.33</td>\n",
       "      <td>886592</td>\n",
       "      <td>60</td>\n",
       "      <td>652860</td>\n",
       "      <td>-62920</td>\n",
       "      <td>4.6</td>\n",
       "      <td>18</td>\n",
       "      <td>25.0</td>\n",
       "      <td>0.50</td>\n",
       "    </tr>\n",
       "    <tr>\n",
       "      <th>1</th>\n",
       "      <td>Albania</td>\n",
       "      <td>2877797</td>\n",
       "      <td>-0.11</td>\n",
       "      <td>-3120</td>\n",
       "      <td>105</td>\n",
       "      <td>27400</td>\n",
       "      <td>-14000</td>\n",
       "      <td>1.6</td>\n",
       "      <td>36</td>\n",
       "      <td>63.0</td>\n",
       "      <td>0.04</td>\n",
       "    </tr>\n",
       "    <tr>\n",
       "      <th>2</th>\n",
       "      <td>Algeria</td>\n",
       "      <td>43851044</td>\n",
       "      <td>1.85</td>\n",
       "      <td>797990</td>\n",
       "      <td>18</td>\n",
       "      <td>2381740</td>\n",
       "      <td>-10000</td>\n",
       "      <td>3.1</td>\n",
       "      <td>29</td>\n",
       "      <td>73.0</td>\n",
       "      <td>0.56</td>\n",
       "    </tr>\n",
       "    <tr>\n",
       "      <th>3</th>\n",
       "      <td>Angola</td>\n",
       "      <td>32866272</td>\n",
       "      <td>3.27</td>\n",
       "      <td>1040977</td>\n",
       "      <td>26</td>\n",
       "      <td>1246700</td>\n",
       "      <td>6413</td>\n",
       "      <td>5.6</td>\n",
       "      <td>17</td>\n",
       "      <td>67.0</td>\n",
       "      <td>0.42</td>\n",
       "    </tr>\n",
       "    <tr>\n",
       "      <th>4</th>\n",
       "      <td>Antigua and Barbuda</td>\n",
       "      <td>97929</td>\n",
       "      <td>0.84</td>\n",
       "      <td>811</td>\n",
       "      <td>223</td>\n",
       "      <td>440</td>\n",
       "      <td>0</td>\n",
       "      <td>2.0</td>\n",
       "      <td>34</td>\n",
       "      <td>26.0</td>\n",
       "      <td>0.00</td>\n",
       "    </tr>\n",
       "    <tr>\n",
       "      <th>...</th>\n",
       "      <td>...</td>\n",
       "      <td>...</td>\n",
       "      <td>...</td>\n",
       "      <td>...</td>\n",
       "      <td>...</td>\n",
       "      <td>...</td>\n",
       "      <td>...</td>\n",
       "      <td>...</td>\n",
       "      <td>...</td>\n",
       "      <td>...</td>\n",
       "      <td>...</td>\n",
       "    </tr>\n",
       "    <tr>\n",
       "      <th>196</th>\n",
       "      <td>Vietnam</td>\n",
       "      <td>97338579</td>\n",
       "      <td>0.91</td>\n",
       "      <td>876473</td>\n",
       "      <td>314</td>\n",
       "      <td>310070</td>\n",
       "      <td>-80000</td>\n",
       "      <td>2.1</td>\n",
       "      <td>32</td>\n",
       "      <td>38.0</td>\n",
       "      <td>1.25</td>\n",
       "    </tr>\n",
       "    <tr>\n",
       "      <th>197</th>\n",
       "      <td>Western Sahara</td>\n",
       "      <td>597339</td>\n",
       "      <td>2.55</td>\n",
       "      <td>14876</td>\n",
       "      <td>2</td>\n",
       "      <td>266000</td>\n",
       "      <td>5582</td>\n",
       "      <td>2.4</td>\n",
       "      <td>28</td>\n",
       "      <td>87.0</td>\n",
       "      <td>0.01</td>\n",
       "    </tr>\n",
       "    <tr>\n",
       "      <th>198</th>\n",
       "      <td>Yemen</td>\n",
       "      <td>29825964</td>\n",
       "      <td>2.28</td>\n",
       "      <td>664042</td>\n",
       "      <td>56</td>\n",
       "      <td>527970</td>\n",
       "      <td>-30000</td>\n",
       "      <td>3.8</td>\n",
       "      <td>20</td>\n",
       "      <td>38.0</td>\n",
       "      <td>0.38</td>\n",
       "    </tr>\n",
       "    <tr>\n",
       "      <th>199</th>\n",
       "      <td>Zambia</td>\n",
       "      <td>18383955</td>\n",
       "      <td>2.93</td>\n",
       "      <td>522925</td>\n",
       "      <td>25</td>\n",
       "      <td>743390</td>\n",
       "      <td>-8000</td>\n",
       "      <td>4.7</td>\n",
       "      <td>18</td>\n",
       "      <td>45.0</td>\n",
       "      <td>0.24</td>\n",
       "    </tr>\n",
       "    <tr>\n",
       "      <th>200</th>\n",
       "      <td>Zimbabwe</td>\n",
       "      <td>14862924</td>\n",
       "      <td>1.48</td>\n",
       "      <td>217456</td>\n",
       "      <td>38</td>\n",
       "      <td>386850</td>\n",
       "      <td>-116858</td>\n",
       "      <td>3.6</td>\n",
       "      <td>19</td>\n",
       "      <td>38.0</td>\n",
       "      <td>0.19</td>\n",
       "    </tr>\n",
       "  </tbody>\n",
       "</table>\n",
       "<p>201 rows × 11 columns</p>\n",
       "</div>"
      ],
      "text/plain": [
       "                 Country  Population (2020)  Yearly Change  Net Change  \\\n",
       "0            Afghanistan           38928346           2.33      886592   \n",
       "1                Albania            2877797          -0.11       -3120   \n",
       "2                Algeria           43851044           1.85      797990   \n",
       "3                 Angola           32866272           3.27     1040977   \n",
       "4    Antigua and Barbuda              97929           0.84         811   \n",
       "..                   ...                ...            ...         ...   \n",
       "196              Vietnam           97338579           0.91      876473   \n",
       "197       Western Sahara             597339           2.55       14876   \n",
       "198                Yemen           29825964           2.28      664042   \n",
       "199               Zambia           18383955           2.93      522925   \n",
       "200             Zimbabwe           14862924           1.48      217456   \n",
       "\n",
       "     Density (P/Km²)  Land Area (Km²)  Migrants (net)  Fert. Rate  Med. Age  \\\n",
       "0                 60           652860          -62920         4.6        18   \n",
       "1                105            27400          -14000         1.6        36   \n",
       "2                 18          2381740          -10000         3.1        29   \n",
       "3                 26          1246700            6413         5.6        17   \n",
       "4                223              440               0         2.0        34   \n",
       "..               ...              ...             ...         ...       ...   \n",
       "196              314           310070          -80000         2.1        32   \n",
       "197                2           266000            5582         2.4        28   \n",
       "198               56           527970          -30000         3.8        20   \n",
       "199               25           743390           -8000         4.7        18   \n",
       "200               38           386850         -116858         3.6        19   \n",
       "\n",
       "     Urban Pop %  World Share  \n",
       "0           25.0         0.50  \n",
       "1           63.0         0.04  \n",
       "2           73.0         0.56  \n",
       "3           67.0         0.42  \n",
       "4           26.0         0.00  \n",
       "..           ...          ...  \n",
       "196         38.0         1.25  \n",
       "197         87.0         0.01  \n",
       "198         38.0         0.38  \n",
       "199         45.0         0.24  \n",
       "200         38.0         0.19  \n",
       "\n",
       "[201 rows x 11 columns]"
      ]
     },
     "execution_count": 12,
     "metadata": {},
     "output_type": "execute_result"
    }
   ],
   "source": [
    "import pandas as pd \n",
    "\n",
    "df = pd.read_csv('/workspaces/bts_jewel/data/world_population.csv')\n",
    "df.rename(columns={\"Country/Other\":\"Country\"}, inplace=True)\n",
    "df.to_csv('/workspaces/bts_jewel/data/world_population.csv', index=False)"
   ]
  }
 ],
 "metadata": {
  "kernelspec": {
   "display_name": "Python 3",
   "language": "python",
   "name": "python3"
  },
  "language_info": {
   "codemirror_mode": {
    "name": "ipython",
    "version": 3
   },
   "file_extension": ".py",
   "mimetype": "text/x-python",
   "name": "python",
   "nbconvert_exporter": "python",
   "pygments_lexer": "ipython3",
   "version": "3.10.4"
  },
  "orig_nbformat": 4,
  "vscode": {
   "interpreter": {
    "hash": "3ad933181bd8a04b432d3370b9dc3b0662ad032c4dfaa4e4f1596c548f763858"
   }
  }
 },
 "nbformat": 4,
 "nbformat_minor": 2
}
