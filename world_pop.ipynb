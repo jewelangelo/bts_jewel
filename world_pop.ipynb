{
 "cells": [
  {
   "attachments": {},
   "cell_type": "markdown",
   "metadata": {},
   "source": [
    "### Copy kaggle.json file to /home/codespace/.kaggle/"
   ]
  },
  {
   "cell_type": "code",
   "execution_count": 11,
   "metadata": {},
   "outputs": [],
   "source": [
    "! cp kaggle.json ~/.kaggle/"
   ]
  },
  {
   "attachments": {},
   "cell_type": "markdown",
   "metadata": {},
   "source": [
    "#### import kaggle library and search for datasets"
   ]
  },
  {
   "cell_type": "code",
   "execution_count": 1,
   "metadata": {},
   "outputs": [
    {
     "name": "stdout",
     "output_type": "stream",
     "text": [
      "Warning: Your Kaggle API key is readable by other users on this system! To fix this, you can run 'chmod 600 /home/codespace/.kaggle/kaggle.json'\n",
      "Warning: Your Kaggle API key is readable by other users on this system! To fix this, you can run 'chmod 600 /home/codespace/.kaggle/kaggle.json'\n",
      "ref                                                            title                                                size  lastUpdated          downloadCount  voteCount  usabilityRating  \n",
      "-------------------------------------------------------------  --------------------------------------------------  -----  -------------------  -------------  ---------  ---------------  \n",
      "anandhuh/countries-in-the-world-by-population-2022             Countries in the World by Population 2022             7KB  2022-03-20 14:04:10           2537         91  1.0              \n",
      "muhammedtausif/world-population-by-countries                   World Population                                      9KB  2022-06-21 22:40:01           1760         72  1.0              \n",
      "iamsouravbanerjee/world-population-dataset                     World Population Dataset                             16KB  2022-10-20 17:51:07          21002        465  1.0              \n",
      "whenamancodes/world-population-live-dataset                    World Population Live Dataset 2022                   10KB  2022-09-10 11:29:21           3338         66  1.0              \n",
      "muhammedtausif/world-rural-population                          World Rural Population                               71KB  2022-09-04 07:40:51            466         51  0.9117647        \n",
      "muhammedtausif/military-size-by-country-2022                   Militaries & Weapons                                  4KB  2022-09-02 07:04:58            385         49  0.9705882        \n",
      "anandhuh/population-data-india                                 Population of India (2050-1955)                       3KB  2023-01-16 18:30:25            988         66  1.0              \n",
      "iamsouravbanerjee/fifa-football-world-cup-dataset              FIFA - Football World Cup Dataset                    13KB  2022-12-23 19:22:54           3885         95  1.0              \n",
      "tusharaggarwal27/2022-dec-world-populations                    World Population By Countries ((1970)) to ((2050))   19KB  2022-12-08 02:23:40           1142         58  1.0              \n",
      "josephassaker/covid19-global-dataset                           Covid-19 Global Dataset                               2MB  2022-05-15 16:23:17          10338        119  1.0              \n",
      "anandhuh/population-data-china                                 Population of China (2020 and historical)             3KB  2022-03-30 16:17:29           1444         51  1.0              \n",
      "milanvaddoriya/world-population-data                           World Population Data                                15KB  2022-12-19 15:02:09            958         42  1.0              \n",
      "anandhuh/population-of-pakistan                                Population of Pakistan (2050-1955)                    3KB  2022-06-08 10:45:52            217         47  0.9705882        \n",
      "pranav941/-world-food-wealth-bank                              🍕Food Bank🏦of the World🌍                             12MB  2022-11-09 05:52:45            399         76  1.0              \n",
      "anandhuh/population-data-usa                                   Population of USA (2050-1955)                         3KB  2022-04-26 11:50:08            640         35  0.8235294        \n",
      "surajjha101/fortune-top-1000-companies-by-revenue-2022         Fortune Top 1000 Companies by Revenue 2022           37KB  2022-08-28 06:43:27           4084         94  1.0              \n",
      "anandhuh/population-indonasia                                  Population of Indonesia (2050-1955)                   3KB  2022-05-01 11:33:14            544         60  0.9117647        \n",
      "moazzimalibhatti/co2-emission-by-countries-year-wise-17502022  CO2 Emission by countries Year wise (1750-2022)     280KB  2022-09-14 07:43:00           2474         67  1.0              \n",
      "devrimtuner/most-crowded-countries-in-the-world-top-100        Most Crowded Countries in the World (TOP 100)         4KB  2022-12-26 20:48:03            610         28  1.0              \n",
      "rajkumarpandey02/fifa-world-cup-attendance-19302022            FIFA World Cup Attendance 1930-2022                   5KB  2022-12-19 10:04:26           1312         34  1.0              \n"
     ]
    }
   ],
   "source": [
    "import kaggle\n",
    "!kaggle datasets list -s 'world by population 2022'"
   ]
  },
  {
   "attachments": {},
   "cell_type": "markdown",
   "metadata": {},
   "source": [
    "#### Download the Worl by population 2022"
   ]
  },
  {
   "cell_type": "code",
   "execution_count": 2,
   "metadata": {},
   "outputs": [
    {
     "name": "stdout",
     "output_type": "stream",
     "text": [
      "Warning: Your Kaggle API key is readable by other users on this system! To fix this, you can run 'chmod 600 /home/codespace/.kaggle/kaggle.json'\n",
      "Downloading countries-in-the-world-by-population-2022.zip to /workspaces/bts_jewel\n",
      "  0%|                                               | 0.00/6.52k [00:00<?, ?B/s]\n",
      "100%|██████████████████████████████████████| 6.52k/6.52k [00:00<00:00, 7.24MB/s]\n"
     ]
    }
   ],
   "source": [
    "!kaggle datasets download -d \"anandhuh/countries-in-the-world-by-population-2022\"\n",
    "!mv /workspaces/bts_jewel/\"countries-in-the-world-by-population-2022.zip\" /workspaces/bts_jewel/downloads/"
   ]
  },
  {
   "cell_type": "code",
   "execution_count": 1,
   "metadata": {},
   "outputs": [
    {
     "name": "stdout",
     "output_type": "stream",
     "text": [
      "Reading package lists... Done\n",
      "Building dependency tree       \n",
      "Reading state information... Done\n",
      "unzip is already the newest version (6.0-25ubuntu1.1).\n",
      "The following packages were automatically installed and are no longer required:\n",
      "  aspnetcore-runtime-6.0 aspnetcore-targeting-pack-6.0 dotnet-apphost-pack-6.0\n",
      "  dotnet-host dotnet-hostfxr-6.0 dotnet-runtime-6.0 dotnet-runtime-deps-6.0\n",
      "  dotnet-targeting-pack-6.0 netstandard-targeting-pack-2.1\n",
      "Use 'sudo apt autoremove' to remove them.\n",
      "0 upgraded, 0 newly installed, 0 to remove and 0 not upgraded.\n"
     ]
    }
   ],
   "source": [
    "!sudo apt-get install unzip"
   ]
  },
  {
   "cell_type": "code",
   "execution_count": 4,
   "metadata": {},
   "outputs": [
    {
     "name": "stdout",
     "output_type": "stream",
     "text": [
      "Archive:  /workspaces/bts_jewel/downloads/countries-in-the-world-by-population-2022.zip\n",
      "  inflating: data/world_population.csv  \n"
     ]
    }
   ],
   "source": [
    "!unzip /workspaces/bts_jewel/downloads/\"countries-in-the-world-by-population-2022.zip\" -d data/"
   ]
  },
  {
   "cell_type": "code",
   "execution_count": null,
   "metadata": {},
   "outputs": [],
   "source": []
  }
 ],
 "metadata": {
  "kernelspec": {
   "display_name": "Python 3",
   "language": "python",
   "name": "python3"
  },
  "language_info": {
   "codemirror_mode": {
    "name": "ipython",
    "version": 3
   },
   "file_extension": ".py",
   "mimetype": "text/x-python",
   "name": "python",
   "nbconvert_exporter": "python",
   "pygments_lexer": "ipython3",
   "version": "3.10.4"
  },
  "orig_nbformat": 4,
  "vscode": {
   "interpreter": {
    "hash": "3ad933181bd8a04b432d3370b9dc3b0662ad032c4dfaa4e4f1596c548f763858"
   }
  }
 },
 "nbformat": 4,
 "nbformat_minor": 2
}
